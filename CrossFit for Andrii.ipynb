{
 "cells": [
  {
   "cell_type": "code",
   "execution_count": 97,
   "id": "af716cbb",
   "metadata": {},
   "outputs": [],
   "source": [
    "import collections\n",
    "from collections import defaultdict\n",
    "import json\n",
    "\n",
    "import pandas as pd\n",
    "import numpy as np\n",
    "import matplotlib.pyplot as plt\n",
    "import seaborn as sns\n",
    "import re\n",
    "\n",
    "from bs4 import BeautifulSoup\n",
    "import requests\n",
    "\n",
    "from pprint import pprint\n",
    "\n",
    "import warnings\n",
    "warnings.filterwarnings('ignore')"
   ]
  },
  {
   "cell_type": "markdown",
   "id": "f46e63bd",
   "metadata": {},
   "source": [
    "# Data extraction"
   ]
  },
  {
   "cell_type": "code",
   "execution_count": 98,
   "id": "6f5fdabe",
   "metadata": {},
   "outputs": [],
   "source": [
    "BASE_URL = \"https://games.crossfit.com/workouts/open/{year}/\"\n",
    "BASE_URL_WITH_WORKOUT_NUM = \"https://games.crossfit.com/workouts/open/{year}/{workout_num}?division=1\"\n",
    "BASE_URL_WITH_WORKOUT_NUM_OLD = \"https://games.crossfit.com/workouts/open/{year}/#workoutsTab{workout_num}\"\n"
   ]
  },
  {
   "cell_type": "code",
   "execution_count": 99,
   "id": "3f172fdf",
   "metadata": {},
   "outputs": [
    {
     "name": "stdout",
     "output_type": "stream",
     "text": [
      "End\n"
     ]
    }
   ],
   "source": [
    "def main():\n",
    "    years = range(2011, 2023 + 1)\n",
    "    d = defaultdict(collections.Counter)\n",
    "    d1 = defaultdict(dict)\n",
    "    for year in years:\n",
    "        #print(f\"Year = {year}\")\n",
    "        resp = requests.get(BASE_URL.format(year=year))\n",
    "        resp.raise_for_status()\n",
    "        parsed_html = BeautifulSoup(resp.text, \"html.parser\")\n",
    "\n",
    "        if year < 2017:\n",
    "            data = parsed_html.body.findAll('div', attrs={'class': 'tabs js-workout-tabs'})\n",
    "        else:\n",
    "            data = parsed_html.body.findAll('div', attrs={'class': 'ordinals'})\n",
    "\n",
    "        links = []\n",
    "        for div in data:\n",
    "            links = div.findAll('a')\n",
    "        workout_nums = range(1, len(links) + 1)\n",
    "        for workout_num in workout_nums:\n",
    "            #print(f\"workout = {workout_num}\")\n",
    "            if year < 2017:\n",
    "                resp = requests.get(BASE_URL_WITH_WORKOUT_NUM_OLD.format(year=year, workout_num=workout_num))\n",
    "                resp.raise_for_status()\n",
    "                parsed_html = BeautifulSoup(resp.text, \"html.parser\")\n",
    "                section = parsed_html.body.find('li', {'id': f'workoutsTab{workout_num}'})\n",
    "                text = section.find('div', attrs={'class': 'drupal-inline-reset'}).text\n",
    "                text = text.lower().split(\"women\")[0]\n",
    "            else:\n",
    "                resp = requests.get(BASE_URL_WITH_WORKOUT_NUM.format(year=year, workout_num=workout_num))\n",
    "                resp.raise_for_status()\n",
    "                parsed_html = BeautifulSoup(resp.text, \"html.parser\")\n",
    "                text = parsed_html.body.find('div', attrs={'class': 'exercises'}).text\n",
    "            d1[year][workout_num] = text\n",
    "            # for line in text.splitlines():\n",
    "            #     movement = find_movement(line)\n",
    "            #     if movement:\n",
    "            #         d[year][movement] += 1\n",
    "    with open(\"opens_raw.json\", \"w\") as f:\n",
    "        f.write(json.dumps(d1, indent=2))\n",
    "    print(\"End\")\n",
    "\n",
    "\n",
    "def find_movement(line):\n",
    "    for movement in all_movements:\n",
    "        if movement in line.lower():\n",
    "            return movement\n",
    "        singular = movement.rstrip(\"s\")\n",
    "\n",
    "        if singular in line.lower():\n",
    "            return movement\n",
    "\n",
    "\n",
    "if __name__ == '__main__':\n",
    "    main()"
   ]
  },
  {
   "cell_type": "markdown",
   "id": "e2e8e8d4",
   "metadata": {},
   "source": [
    "# Initialization dictionary of movements "
   ]
  },
  {
   "cell_type": "code",
   "execution_count": 100,
   "id": "604c36c5",
   "metadata": {},
   "outputs": [],
   "source": [
    "# Initialization of movements groups \n",
    "mapping = {\n",
    "    #box jumps\n",
    "    \"box jumps\": \"box jumps\",\n",
    "    \"box jump-overs\": \"box jumps\",\n",
    "    \n",
    "    #handstand push-ups\n",
    "    \"strict handstand push-ups\": \"handstand push-ups\",\n",
    "    \"handstand push-ups\": \"handstand push-ups\",\n",
    "    \n",
    "    #squats\n",
    "    \"overhead squats\": \"squats\",\n",
    "    \"dumbbell squats\": \"squats\",\n",
    "    \"single-leg squats\": \"squats\",\n",
    "    \"front squats\": \"squats\",\n",
    "    \n",
    "    # pull-ups\n",
    "    \"pull-ups\": \"pull-ups\",\n",
    "    \"chest-to-bar pull-ups\": \"pull-ups\",   \n",
    "    \n",
    "    # snatches\n",
    "    \"snatches\": \"snatches\",\n",
    "    \"ground-to-overheads\": \"snatches\",\n",
    "    \"dumbbell snatches\": \"snatches\",\n",
    "    \"squat snatches\": \"snatches\",\n",
    "\n",
    "    # thrusters\n",
    "    \"thrusters\": \"thrusters\",\n",
    "    \"dumbbell thrusters\": \"thrusters\",\n",
    "\n",
    "    # muscle ups\n",
    "    \"muscle-ups\": \"muscle-ups\",\n",
    "    \"bar muscle-ups\": \"muscle-ups\",\n",
    "    \"ring muscle-ups\": \"muscle-ups\",\n",
    "\n",
    "    # dumbbell overhead lunge\n",
    "    \"dumbbell overhead lunge\": \"lunge\",\n",
    "    \"overhead walking lunge\": \"lunge\",\n",
    "    \"weighted walking lunge\": \"lunge\",\n",
    "\n",
    "    # burpees\n",
    "    \"burpees\": \"burpees\",\n",
    "    \"bar-facing burpees\": \"burpees\",\n",
    "    \"burpee box jump-overs\": \"burpees\",\n",
    "    \"burpee pull-ups\": \"burpees\",\n",
    "\n",
    "    # clean\n",
    "    \"cleans\": \"clean\",\n",
    "    \"hang clean\": \"clean\",\n",
    "    \"power cleans\": \"clean\",\n",
    "    \"squat cleans\": \"clean\",\n",
    "}\n",
    "\n",
    "#Regular expessions dictionaries to extract movements data\n",
    "\n",
    "mapping_regexp_short = {\n",
    "    \"snatches\": r\"snatch\",\n",
    "    \"deadlifts\": r\"deadlift\",\n",
    "    \"pull-ups\": r\"pull[\\s\\-]up\",\n",
    "    \"thrusters\": r\"thruster\",\n",
    "    \"muscle-ups\": r\"muscle[\\s\\-]up\",\n",
    "    \"row\": r\"row\",\n",
    "    \"cleans\": r\"clean\",\n",
    "    \"jerk\": r\"jerk\",\n",
    "    \"box jumps\": r\"box jump\",\n",
    "    \"burpees\": r\"burpees\",\n",
    "}\n",
    "\n",
    "mapping_regexp_long = {\n",
    "    \"bar muscle-ups\": r\"bar muscle[\\s\\-]up\",\n",
    "    \"bar-facing burpees\": r\"bar[\\s\\-]facing burpee\",\n",
    "    \"box jump-overs\": r\"\\d+ box jump[\\s\\-]over\",\n",
    "    \"burpee box jump-overs\": r\"burpee box jump[\\s\\-]over\",\n",
    "    \"burpee pull-ups\": r\"burpee pull[\\s\\-]up\",\n",
    "    \"chest-to-bar pull-ups\": r\"chest[\\s\\-]to[\\s\\-]bar pull[\\s\\-]up\",\n",
    "    \"clean and jerks\": r\"clean and jerk\",\n",
    "    \"double-unders\": r\"double[\\s\\-]under\",\n",
    "    \"dumbbell box step-ups\": r\"dumbbell box step[\\s\\-]up\",\n",
    "    \"dumbbell overhead lunge\": r\"dumbbell overhead lunge\",\n",
    "    \"dumbbell snatches\": r\"dumbbell snatche\",\n",
    "    \"dumbbell squats\": r\"dumbbell squat\",\n",
    "    \"dumbbell thrusters\": r\"dumbbell thruster\",\n",
    "    \"front squats\": r\"front squat\",\n",
    "    \"ground-to-overheads\": r\"ground-to-overhead\",\n",
    "    \"handstand push-ups\": r\"handstand push[\\s\\-]up\",\n",
    "    \"handstand walk\": r\"handstand walk\",\n",
    "    \"hang clean\": r\"hang clean\",\n",
    "    \"overhead squats\": r\"overhead squat\",\n",
    "    \"overhead walking lunge\": r\"overhead walking lunge\",\n",
    "    \"power cleans\": r\"power clean\",\n",
    "    \"ring muscle-ups\": r\"ring muscle[\\s\\-]up\",\n",
    "    \"shuttle runs\": r\"shuttle run\",\n",
    "    \"single-leg squats\": r\"single[\\s\\-]leg squat\",\n",
    "    \"squat cleans\": r\"squat clean\",\n",
    "    \"squat snatches\": r\"squat snatche\",\n",
    "    \"strict handstand push-ups\": r\"strict handstand push[\\s\\-]up\",\n",
    "    \"toes-to-bars\": r\"toes[\\s\\-]to[\\s\\-]bar\",\n",
    "    \"wall walks\": r\"wall walk\",\n",
    "    \"wall-ball shots\": r\"wall[\\s\\-]ball\",\n",
    "    \"weighted walking lunge\": r\"weighted walking lunge\",\n",
    "}"
   ]
  },
  {
   "cell_type": "markdown",
   "id": "d2ce843a",
   "metadata": {},
   "source": [
    "# Reading data from JSON file"
   ]
  },
  {
   "cell_type": "code",
   "execution_count": 101,
   "id": "073ab552",
   "metadata": {},
   "outputs": [],
   "source": [
    "with open('opens_raw.json', 'r') as f:\n",
    "    data = json.load(f)\n",
    "    \n",
    "df_raw = pd.DataFrame(data)"
   ]
  },
  {
   "cell_type": "code",
   "execution_count": 102,
   "id": "d8c1a4b2",
   "metadata": {},
   "outputs": [
    {
     "data": {
      "text/html": [
       "<div>\n",
       "<style scoped>\n",
       "    .dataframe tbody tr th:only-of-type {\n",
       "        vertical-align: middle;\n",
       "    }\n",
       "\n",
       "    .dataframe tbody tr th {\n",
       "        vertical-align: top;\n",
       "    }\n",
       "\n",
       "    .dataframe thead th {\n",
       "        text-align: right;\n",
       "    }\n",
       "</style>\n",
       "<table border=\"1\" class=\"dataframe\">\n",
       "  <thead>\n",
       "    <tr style=\"text-align: right;\">\n",
       "      <th></th>\n",
       "      <th>2011</th>\n",
       "      <th>2012</th>\n",
       "      <th>2013</th>\n",
       "      <th>2014</th>\n",
       "      <th>2015</th>\n",
       "      <th>2016</th>\n",
       "      <th>2017</th>\n",
       "      <th>2018</th>\n",
       "      <th>2019</th>\n",
       "      <th>2020</th>\n",
       "      <th>2021</th>\n",
       "      <th>2022</th>\n",
       "      <th>2023</th>\n",
       "    </tr>\n",
       "  </thead>\n",
       "  <tbody>\n",
       "    <tr>\n",
       "      <th>1</th>\n",
       "      <td>\\n\\nmen - includes masters men up to 54 years ...</td>\n",
       "      <td>\\n\\ncomplete as many reps as possible in 7 min...</td>\n",
       "      <td>\\n\\nmen - includes masters men up to 54 years ...</td>\n",
       "      <td>\\n\\nmen - includes masters men up to 54 years ...</td>\n",
       "      <td>\\n\\n\\ncomplete as many rounds and reps as poss...</td>\n",
       "      <td>\\n\\ncomplete as many rounds and reps as possib...</td>\n",
       "      <td>\\nWorkout 17.1\\r\\nFor time:\\r\\n10 dumbbell sna...</td>\n",
       "      <td>\\nWorkout 18.1\\nComplete as many rounds as pos...</td>\n",
       "      <td>\\nWorkout 19.1\\nComplete as many rounds as pos...</td>\n",
       "      <td>\\n10 rounds for time of:\\r\\n8 ground-to-overhe...</td>\n",
       "      <td>\\nFor time:\\n1 wall walk\\r\\n10 double-unders\\r...</td>\n",
       "      <td>\\nComplete as many rounds as possible in 15 mi...</td>\n",
       "      <td>\\nComplete as many reps as possible in 14 minu...</td>\n",
       "    </tr>\n",
       "    <tr>\n",
       "      <th>2</th>\n",
       "      <td>\\n\\nmen - includes masters men up to 54 years ...</td>\n",
       "      <td>\\n\\nmen - includes masters men up to 54 years ...</td>\n",
       "      <td>\\n\\nmen - includes masters men up to 54 years ...</td>\n",
       "      <td>\\n\\nevery 3 minutes for as long as possible co...</td>\n",
       "      <td>\\n\\nevery 3 minutes for as long as possible co...</td>\n",
       "      <td>\\n\\nbeginning on a 4-minute clock, complete as...</td>\n",
       "      <td>\\nComplete as many rounds and reps as possible...</td>\n",
       "      <td>\\nWorkout 18.2\\n1-2-3-4-5-6-7-8-9-10 reps for ...</td>\n",
       "      <td>\\nWorkout 19.2\\nBeginning on an 8-minute clock...</td>\n",
       "      <td>\\nComplete as many rounds as possible in 20 mi...</td>\n",
       "      <td>\\nFor time:\\n10 dumbbell snatches\\r\\n15 burpee...</td>\n",
       "      <td>\\n1-2-3-4-5-6-7-8-9-10-9-8-7-6-5-4-3-2-1 reps ...</td>\n",
       "      <td>\\n23.2A:\\nComplete as many reps as possible in...</td>\n",
       "    </tr>\n",
       "  </tbody>\n",
       "</table>\n",
       "</div>"
      ],
      "text/plain": [
       "                                                2011  \\\n",
       "1  \\n\\nmen - includes masters men up to 54 years ...   \n",
       "2  \\n\\nmen - includes masters men up to 54 years ...   \n",
       "\n",
       "                                                2012  \\\n",
       "1  \\n\\ncomplete as many reps as possible in 7 min...   \n",
       "2  \\n\\nmen - includes masters men up to 54 years ...   \n",
       "\n",
       "                                                2013  \\\n",
       "1  \\n\\nmen - includes masters men up to 54 years ...   \n",
       "2  \\n\\nmen - includes masters men up to 54 years ...   \n",
       "\n",
       "                                                2014  \\\n",
       "1  \\n\\nmen - includes masters men up to 54 years ...   \n",
       "2  \\n\\nevery 3 minutes for as long as possible co...   \n",
       "\n",
       "                                                2015  \\\n",
       "1  \\n\\n\\ncomplete as many rounds and reps as poss...   \n",
       "2  \\n\\nevery 3 minutes for as long as possible co...   \n",
       "\n",
       "                                                2016  \\\n",
       "1  \\n\\ncomplete as many rounds and reps as possib...   \n",
       "2  \\n\\nbeginning on a 4-minute clock, complete as...   \n",
       "\n",
       "                                                2017  \\\n",
       "1  \\nWorkout 17.1\\r\\nFor time:\\r\\n10 dumbbell sna...   \n",
       "2  \\nComplete as many rounds and reps as possible...   \n",
       "\n",
       "                                                2018  \\\n",
       "1  \\nWorkout 18.1\\nComplete as many rounds as pos...   \n",
       "2  \\nWorkout 18.2\\n1-2-3-4-5-6-7-8-9-10 reps for ...   \n",
       "\n",
       "                                                2019  \\\n",
       "1  \\nWorkout 19.1\\nComplete as many rounds as pos...   \n",
       "2  \\nWorkout 19.2\\nBeginning on an 8-minute clock...   \n",
       "\n",
       "                                                2020  \\\n",
       "1  \\n10 rounds for time of:\\r\\n8 ground-to-overhe...   \n",
       "2  \\nComplete as many rounds as possible in 20 mi...   \n",
       "\n",
       "                                                2021  \\\n",
       "1  \\nFor time:\\n1 wall walk\\r\\n10 double-unders\\r...   \n",
       "2  \\nFor time:\\n10 dumbbell snatches\\r\\n15 burpee...   \n",
       "\n",
       "                                                2022  \\\n",
       "1  \\nComplete as many rounds as possible in 15 mi...   \n",
       "2  \\n1-2-3-4-5-6-7-8-9-10-9-8-7-6-5-4-3-2-1 reps ...   \n",
       "\n",
       "                                                2023  \n",
       "1  \\nComplete as many reps as possible in 14 minu...  \n",
       "2  \\n23.2A:\\nComplete as many reps as possible in...  "
      ]
     },
     "execution_count": 102,
     "metadata": {},
     "output_type": "execute_result"
    }
   ],
   "source": [
    "df_raw.head(2)"
   ]
  },
  {
   "cell_type": "code",
   "execution_count": 103,
   "id": "539ec765",
   "metadata": {},
   "outputs": [
    {
     "name": "stdout",
     "output_type": "stream",
     "text": [
      "   year workout_number                                        description\n",
      "0  2011              1  \\n\\nmen - includes masters men up to 54 years ...\n",
      "1  2011              2  \\n\\nmen - includes masters men up to 54 years ...\n",
      "2  2011              3  \\n\\nmen - includes masters men up to 54 years ...\n",
      "3  2011              4  \\n\\nmen - includes masters men up to 54 years ...\n",
      "4  2011              5  \\n\\nmen - includes masters men up to 54 years ...\n",
      "(78, 3)\n"
     ]
    }
   ],
   "source": [
    "df=pd.DataFrame(df_raw.unstack()).reset_index()\n",
    "df.rename(columns={'level_0':'year', 'level_1':'workout_number',0:'description'}, inplace=True)\n",
    "\n",
    "print(df.head(5))\n",
    "print(df.shape)"
   ]
  },
  {
   "cell_type": "markdown",
   "id": "9deac4c6",
   "metadata": {},
   "source": [
    "## Data cleaning"
   ]
  },
  {
   "cell_type": "code",
   "execution_count": 104,
   "id": "977fb466",
   "metadata": {},
   "outputs": [
    {
     "data": {
      "text/plain": [
       "True"
      ]
     },
     "execution_count": 104,
     "metadata": {},
     "output_type": "execute_result"
    }
   ],
   "source": [
    "df.isnull().values.any() "
   ]
  },
  {
   "cell_type": "code",
   "execution_count": 105,
   "id": "d10fe908",
   "metadata": {},
   "outputs": [
    {
     "data": {
      "text/plain": [
       "year               0\n",
       "workout_number     0\n",
       "description       17\n",
       "dtype: int64"
      ]
     },
     "execution_count": 105,
     "metadata": {},
     "output_type": "execute_result"
    }
   ],
   "source": [
    "df.isnull().sum()"
   ]
  },
  {
   "cell_type": "markdown",
   "id": "0ca9e481",
   "metadata": {},
   "source": [
    "In extracted data we have empty values in description fields, that should be removed "
   ]
  },
  {
   "cell_type": "code",
   "execution_count": 106,
   "id": "e94834d8",
   "metadata": {},
   "outputs": [
    {
     "name": "stdout",
     "output_type": "stream",
     "text": [
      "(61, 3)\n"
     ]
    }
   ],
   "source": [
    "df.dropna(inplace=True)\n",
    "df.reset_index(drop=True, inplace=True)\n",
    "print(df.shape)"
   ]
  },
  {
   "cell_type": "markdown",
   "id": "f4bfbd17",
   "metadata": {},
   "source": [
    "## Data preprocessing"
   ]
  },
  {
   "cell_type": "code",
   "execution_count": 107,
   "id": "3bc9211e",
   "metadata": {},
   "outputs": [],
   "source": [
    "# function that will extract the list of unique movements from each workout desctription text data\n",
    "def extract_movement(x):\n",
    "    \n",
    "    txt=x.replace('\\xa0',' ').replace('   ','').replace('  ','')\n",
    "    txt=txt.lower()\n",
    "    str_list=txt.split(\"\\n\")## Data cleaning\n",
    "    movements=[]\n",
    "    for line in str_list:\n",
    "        matched = False\n",
    "        for l,reg_exp_l in mapping_regexp_long.items():\n",
    "            if re.search(reg_exp_l, line):\n",
    "                movements.append(l)\n",
    "                matched = True\n",
    "                \n",
    "        if matched==False:\n",
    "            for s,reg_exp_s in mapping_regexp_short.items():\n",
    "                if re.search(reg_exp_s, line):\n",
    "                    movements.append(s)        \n",
    "             \n",
    "    return set(movements)"
   ]
  },
  {
   "cell_type": "code",
   "execution_count": 108,
   "id": "ebcfea44",
   "metadata": {},
   "outputs": [
    {
     "ename": "NameError",
     "evalue": "name 'c' is not defined",
     "output_type": "error",
     "traceback": [
      "\u001b[0;31m---------------------------------------------------------------------------\u001b[0m",
      "\u001b[0;31mNameError\u001b[0m                                 Traceback (most recent call last)",
      "Cell \u001b[0;32mIn[108], line 3\u001b[0m\n\u001b[1;32m      1\u001b[0m \u001b[38;5;66;03m#Extract the list of unique movements from description\u001b[39;00m\n\u001b[1;32m      2\u001b[0m df[\u001b[38;5;124m'\u001b[39m\u001b[38;5;124mmovements\u001b[39m\u001b[38;5;124m'\u001b[39m]\u001b[38;5;241m=\u001b[39mdf[\u001b[38;5;124m'\u001b[39m\u001b[38;5;124mdescription\u001b[39m\u001b[38;5;124m'\u001b[39m]\u001b[38;5;241m.\u001b[39mapply(extract_movement)\n\u001b[0;32m----> 3\u001b[0m c\n",
      "\u001b[0;31mNameError\u001b[0m: name 'c' is not defined"
     ]
    }
   ],
   "source": [
    "#Extract the list of unique movements from description\n",
    "df['movements']=df['description'].apply(extract_movement)\n",
    "c"
   ]
  },
  {
   "cell_type": "code",
   "execution_count": null,
   "id": "e0b0d88f",
   "metadata": {},
   "outputs": [],
   "source": [
    "print(\"Total numbers of workouts analysed: \", df.shape[0])"
   ]
  },
  {
   "cell_type": "code",
   "execution_count": null,
   "id": "3ddf8819",
   "metadata": {},
   "outputs": [],
   "source": [
    "# check if we have unrecognized data \n",
    "if df[df['movements']==set()].shape[0]!=0:\n",
    "    print(\"\\033[91m {}\\033[00m\".format(\"Unrecognized descriptions:\"))\n",
    "    print(\"\\033[91m {}\\033[00m\".format(df[df['movements']==set()]))\n",
    "else:\n",
    "    print(\"\\033[92m {}\\033[00m\" .format(\"All the data was recognized\"))"
   ]
  },
  {
   "cell_type": "code",
   "execution_count": null,
   "id": "a4b385d9",
   "metadata": {},
   "outputs": [],
   "source": [
    "# Transform each element of a set to a row\n",
    "df_final= df.explode('movements').reset_index(drop=True)"
   ]
  },
  {
   "cell_type": "code",
   "execution_count": null,
   "id": "021478c8",
   "metadata": {},
   "outputs": [],
   "source": [
    "df_final.drop(columns='description', inplace=True)\n"
   ]
  },
  {
   "cell_type": "code",
   "execution_count": null,
   "id": "d58d8a95",
   "metadata": {},
   "outputs": [],
   "source": [
    "# Mapping each movement to movement_group\n",
    "df_final['movement_group'] = df_final['movements'].replace(mapping)"
   ]
  },
  {
   "cell_type": "code",
   "execution_count": null,
   "id": "e56779a8",
   "metadata": {},
   "outputs": [],
   "source": [
    "df_final"
   ]
  },
  {
   "cell_type": "markdown",
   "id": "563b25e0",
   "metadata": {},
   "source": [
    "## Top 20 movements by the number of appearances in Open workouts"
   ]
  },
  {
   "cell_type": "code",
   "execution_count": null,
   "id": "115ee457",
   "metadata": {},
   "outputs": [],
   "source": [
    "df_grouped=df_final.groupby(by=['movements'])['workout_number'].count().reset_index()\n",
    "\n",
    "df_grouped.sort_values(by='workout_number',inplace=True, ascending=False)\n",
    "df_grouped.head()"
   ]
  },
  {
   "cell_type": "code",
   "execution_count": null,
   "id": "ce133a62",
   "metadata": {},
   "outputs": [],
   "source": [
    "# select top 20 movements \n",
    "df_top_20=df_grouped[0:20].reset_index(drop=True)\n"
   ]
  },
  {
   "cell_type": "code",
   "execution_count": null,
   "id": "4b3536e7",
   "metadata": {},
   "outputs": [],
   "source": [
    "# plotting data\n",
    "plt.figure(figsize=(8,5))\n",
    "df_top_20.sort_values('workout_number',inplace=True, ascending=False)\n",
    "palette = sns.color_palette(\"Blues_d\",n_colors=df_top_20.shape[0])\n",
    "palette.reverse()\n",
    "\n",
    "\n",
    "ax = sns.barplot(y=df_top_20['movements'], x=df_top_20['workout_number'], palette=palette, legend=False)\n",
    "ax.set(xlabel='Number of appearances in past Open workouts 2011-2023', ylabel='Movement', \n",
    "       title='Top 20 movements in past Open workouts 2011-2023')\n",
    "\n",
    "for i in ax.containers:\n",
    "    ax.bar_label(i,)\n",
    "\n",
    "ax.xaxis.set_ticklabels([])    \n",
    "ax.tick_params(bottom=False)\n",
    "\n",
    "#ax.set(xlabel=None)\n",
    "sns.despine(bottom=True)\n",
    "#plt.grid()\n",
    "plt.show()\n"
   ]
  },
  {
   "cell_type": "markdown",
   "id": "8ebe47f5",
   "metadata": {},
   "source": [
    "## Top 10 movement groups by the number of appearances in Open workouts"
   ]
  },
  {
   "cell_type": "code",
   "execution_count": null,
   "id": "593100f4",
   "metadata": {},
   "outputs": [],
   "source": [
    "df_grouped_movement_group=df_final.groupby(by=['movement_group'])['workout_number'].count().reset_index()\n",
    "df_grouped_movement_group.sort_values(by='workout_number',inplace=True, ascending=False)\n",
    "df_grouped_movement_group_top10=df_grouped_movement_group[:10].reset_index(drop=True)\n",
    "df_grouped_movement_group_top10"
   ]
  },
  {
   "cell_type": "code",
   "execution_count": null,
   "id": "ab5e51f7",
   "metadata": {},
   "outputs": [],
   "source": [
    "# plotting data\n",
    "plt.figure(figsize=(8,5))\n",
    "df_grouped_movement_group_top10.sort_values('workout_number',inplace=True, ascending=False)\n",
    "palette = sns.color_palette(\"Blues_d\",n_colors=df_grouped_movement_group_top10.shape[0])\n",
    "palette.reverse()\n",
    "\n",
    "\n",
    "ax = sns.barplot(y=df_grouped_movement_group_top10['movement_group'], x=df_grouped_movement_group_top10['workout_number'], palette=palette)\n",
    "ax.set(xlabel='Number of appearances in past Open workouts 2011-2023', ylabel='Movement group', \n",
    "       title='Top 10 movement groups in past Open workouts 2011-2023')\n",
    "\n",
    "for i in ax.containers:\n",
    "    ax.bar_label(i,)\n",
    "\n",
    "ax.xaxis.set_ticklabels([])    \n",
    "ax.tick_params(bottom=False)\n",
    "\n",
    "#ax.set(xlabel=None)\n",
    "sns.despine(bottom=True)\n",
    "#plt.grid()\n",
    "plt.show()"
   ]
  },
  {
   "cell_type": "markdown",
   "id": "2ecfbf64",
   "metadata": {},
   "source": [
    "## Most recent combination of two movement groups in one workout"
   ]
  },
  {
   "cell_type": "code",
   "execution_count": null,
   "id": "60b86ac0",
   "metadata": {},
   "outputs": [],
   "source": [
    "df_sets=df_final[['year','workout_number','movement_group']]\n",
    "df_sets.shape"
   ]
  },
  {
   "cell_type": "code",
   "execution_count": null,
   "id": "128e5e7b",
   "metadata": {},
   "outputs": [],
   "source": [
    "df_sets_cleaned=df_sets.drop_duplicates().reset_index(drop=True)\n",
    "df_sets_cleaned.shape"
   ]
  },
  {
   "cell_type": "code",
   "execution_count": null,
   "id": "403b9140",
   "metadata": {},
   "outputs": [],
   "source": [
    "df_sets_cleaned"
   ]
  },
  {
   "cell_type": "code",
   "execution_count": null,
   "id": "e55b8020",
   "metadata": {},
   "outputs": [],
   "source": [
    "df_sets_cleaned_grouped=pd.DataFrame(df_sets_cleaned.groupby(['year','workout_number'])['movement_group'].agg(set).reset_index(drop=True))\n",
    "df_sets_cleaned_grouped\n"
   ]
  },
  {
   "cell_type": "code",
   "execution_count": null,
   "id": "d00f3b87",
   "metadata": {},
   "outputs": [],
   "source": [
    "df_sets_cleaned_grouped['movements_count_in_set']=df_sets_cleaned_grouped['movement_group'].apply(lambda x: len(x))\n",
    "df_sets_cleaned_grouped"
   ]
  },
  {
   "cell_type": "code",
   "execution_count": null,
   "id": "b0a1971d",
   "metadata": {},
   "outputs": [],
   "source": [
    "df_sets_2=df_sets_cleaned_grouped[df_sets_cleaned_grouped['movements_count_in_set']==2]\n",
    "df_sets_2['movement_group']=df_sets_2['movement_group'].astype(str)\n",
    "\n",
    "df_sets_2_grouped=df_sets_2.groupby('movement_group').count().reset_index()\n",
    "df_sets_2_grouped.sort_values(by='movements_count_in_set', ascending=False, inplace=True)\n",
    "df_sets_2_grouped"
   ]
  },
  {
   "cell_type": "code",
   "execution_count": null,
   "id": "d6e8b99e",
   "metadata": {},
   "outputs": [],
   "source": [
    "df_sets_3=df_sets_cleaned_grouped[df_sets_cleaned_grouped['movements_count_in_set']==3]\n",
    "df_sets_3['movement_group']=df_sets_3['movement_group'].astype(str)\n",
    "\n",
    "df_sets_3_grouped=df_sets_3.groupby('movement_group').count().reset_index()\n",
    "df_sets_3_grouped.sort_values(by='movements_count_in_set', ascending=False, inplace=True)\n",
    "df_sets_3_grouped"
   ]
  },
  {
   "cell_type": "code",
   "execution_count": null,
   "id": "a45989e2",
   "metadata": {},
   "outputs": [],
   "source": []
  }
 ],
 "metadata": {
  "kernelspec": {
   "display_name": "Python 3 (ipykernel)",
   "language": "python",
   "name": "python3"
  },
  "language_info": {
   "codemirror_mode": {
    "name": "ipython",
    "version": 3
   },
   "file_extension": ".py",
   "mimetype": "text/x-python",
   "name": "python",
   "nbconvert_exporter": "python",
   "pygments_lexer": "ipython3",
   "version": "3.11.3"
  }
 },
 "nbformat": 4,
 "nbformat_minor": 5
}
